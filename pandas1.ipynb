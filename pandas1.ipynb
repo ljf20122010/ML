{
 "cells": [
  {
   "cell_type": "code",
   "execution_count": 65,
   "metadata": {},
   "outputs": [
    {
     "name": "stdout",
     "output_type": "stream",
     "text": [
      "0     1\n",
      "1     2\n",
      "2     4\n",
      "3     5\n",
      "4    76\n",
      "5    67\n",
      "6     7\n",
      "dtype: int64\n"
     ]
    },
    {
     "data": {
      "text/plain": [
       "pandas.core.series.Series"
      ]
     },
     "execution_count": 65,
     "metadata": {},
     "output_type": "execute_result"
    }
   ],
   "source": [
    "import pandas as pd\n",
    "import numpy as np\n",
    "t=pd.Series([1,2,4,5,76,67,7])\n",
    "print(t)\n",
    "type(t)"
   ]
  },
  {
   "cell_type": "code",
   "execution_count": 66,
   "metadata": {},
   "outputs": [
    {
     "name": "stdout",
     "output_type": "stream",
     "text": [
      "name      xiaoliu\n",
      "age            33\n",
      "salary      20000\n",
      "dtype: object\n"
     ]
    }
   ],
   "source": [
    "temp_dict={\"name\":\"xiaoliu\",\"age\":33,\"salary\":20000}\n",
    "t2=pd.Series(temp_dict)\n",
    "print(t2)"
   ]
  },
  {
   "cell_type": "code",
   "execution_count": 67,
   "metadata": {},
   "outputs": [
    {
     "name": "stdout",
     "output_type": "stream",
     "text": [
      "      Row_Labels  Count_AnimalName\n",
      "0              1                 1\n",
      "1              2                 2\n",
      "2          40804                 1\n",
      "3          90201                 1\n",
      "4          90203                 1\n",
      "...          ...               ...\n",
      "16215      37916                 1\n",
      "16216      38282                 1\n",
      "16217      38583                 1\n",
      "16218      38948                 1\n",
      "16219      39743                 1\n",
      "\n",
      "[16220 rows x 2 columns]\n"
     ]
    }
   ],
   "source": [
    "df=pd.read_csv(\"D:/study/ml/数据分析资料/数据分析资料/day04/code/dogNames2.csv\")\n",
    "print(df)"
   ]
  },
  {
   "cell_type": "code",
   "execution_count": 68,
   "metadata": {},
   "outputs": [
    {
     "name": "stdout",
     "output_type": "stream",
     "text": [
      "   e  f   g   h\n",
      "a  0  1   2   3\n",
      "b  4  5   6   7\n",
      "c  8  9  10  11\n"
     ]
    }
   ],
   "source": [
    "t3=pd.DataFrame(np.arange(12).reshape(3,4),index=list(\"abc\"),columns=list(\"efgh\"))\n",
    "print(t3)"
   ]
  },
  {
   "cell_type": "code",
   "execution_count": 69,
   "metadata": {},
   "outputs": [
    {
     "name": "stdout",
     "output_type": "stream",
     "text": [
      "      Row_Labels  Count_AnimalName\n",
      "1156       BELLA              1195\n",
      "9140         MAX              1153\n",
      "2660     CHARLIE               856\n",
      "3251        COCO               852\n",
      "12368      ROCKY               823\n",
      "8417        LOLA               795\n",
      "8552       LUCKY               723\n",
      "8560        LUCY               710\n",
      "2032       BUDDY               677\n",
      "3641       DAISY               649\n"
     ]
    }
   ],
   "source": [
    "#dataframe中排序的方法\n",
    "df=df.sort_values(by=\"Count_AnimalName\",ascending=False)\n",
    "print(df.head(10))"
   ]
  },
  {
   "cell_type": "code",
   "execution_count": 70,
   "metadata": {},
   "outputs": [
    {
     "name": "stdout",
     "output_type": "stream",
     "text": [
      "      Row_Labels  Count_AnimalName\n",
      "1156       BELLA              1195\n",
      "9140         MAX              1153\n",
      "2660     CHARLIE               856\n",
      "3251        COCO               852\n",
      "12368      ROCKY               823\n",
      "8417        LOLA               795\n",
      "8552       LUCKY               723\n",
      "8560        LUCY               710\n",
      "2032       BUDDY               677\n",
      "3641       DAISY               649\n",
      "11703   PRINCESS               603\n",
      "829       BAILEY               532\n",
      "9766       MOLLY               519\n",
      "14466      TEDDY               485\n",
      "2913       CHLOE               465\n",
      "14779       TOBY               446\n",
      "8620        LUNA               432\n",
      "6515        JACK               425\n",
      "8788      MAGGIE               393\n",
      "13762     SOPHIE               383\n",
      "1156       BELLA\n",
      "9140         MAX\n",
      "2660     CHARLIE\n",
      "3251        COCO\n",
      "12368      ROCKY\n",
      "8417        LOLA\n",
      "8552       LUCKY\n",
      "8560        LUCY\n",
      "2032       BUDDY\n",
      "3641       DAISY\n",
      "Name: Row_Labels, dtype: object\n"
     ]
    }
   ],
   "source": [
    "#pandas方括号写数组，表示取行\n",
    "#写字符串，表示取索引\n",
    "print(df[:20])\n",
    "print(df[:10][\"Row_Labels\"])"
   ]
  },
  {
   "cell_type": "code",
   "execution_count": 71,
   "metadata": {},
   "outputs": [
    {
     "data": {
      "text/plain": [
       "1"
      ]
     },
     "execution_count": 71,
     "metadata": {},
     "output_type": "execute_result"
    }
   ],
   "source": [
    "t3.loc['a']['f']"
   ]
  },
  {
   "cell_type": "code",
   "execution_count": 72,
   "metadata": {},
   "outputs": [
    {
     "data": {
      "text/html": [
       "<div>\n",
       "<style scoped>\n",
       "    .dataframe tbody tr th:only-of-type {\n",
       "        vertical-align: middle;\n",
       "    }\n",
       "\n",
       "    .dataframe tbody tr th {\n",
       "        vertical-align: top;\n",
       "    }\n",
       "\n",
       "    .dataframe thead th {\n",
       "        text-align: right;\n",
       "    }\n",
       "</style>\n",
       "<table border=\"1\" class=\"dataframe\">\n",
       "  <thead>\n",
       "    <tr style=\"text-align: right;\">\n",
       "      <th></th>\n",
       "      <th>g</th>\n",
       "    </tr>\n",
       "  </thead>\n",
       "  <tbody>\n",
       "    <tr>\n",
       "      <th>b</th>\n",
       "      <td>6</td>\n",
       "    </tr>\n",
       "  </tbody>\n",
       "</table>\n",
       "</div>"
      ],
      "text/plain": [
       "   g\n",
       "b  6"
      ]
     },
     "execution_count": 72,
     "metadata": {},
     "output_type": "execute_result"
    }
   ],
   "source": [
    "t3.iloc[[1],[2]]"
   ]
  },
  {
   "cell_type": "code",
   "execution_count": 73,
   "metadata": {},
   "outputs": [
    {
     "data": {
      "text/html": [
       "<div>\n",
       "<style scoped>\n",
       "    .dataframe tbody tr th:only-of-type {\n",
       "        vertical-align: middle;\n",
       "    }\n",
       "\n",
       "    .dataframe tbody tr th {\n",
       "        vertical-align: top;\n",
       "    }\n",
       "\n",
       "    .dataframe thead th {\n",
       "        text-align: right;\n",
       "    }\n",
       "</style>\n",
       "<table border=\"1\" class=\"dataframe\">\n",
       "  <thead>\n",
       "    <tr style=\"text-align: right;\">\n",
       "      <th></th>\n",
       "      <th>Row_Labels</th>\n",
       "      <th>Count_AnimalName</th>\n",
       "    </tr>\n",
       "  </thead>\n",
       "  <tbody>\n",
       "    <tr>\n",
       "      <th>2660</th>\n",
       "      <td>CHARLIE</td>\n",
       "      <td>856</td>\n",
       "    </tr>\n",
       "    <tr>\n",
       "      <th>3251</th>\n",
       "      <td>COCO</td>\n",
       "      <td>852</td>\n",
       "    </tr>\n",
       "    <tr>\n",
       "      <th>12368</th>\n",
       "      <td>ROCKY</td>\n",
       "      <td>823</td>\n",
       "    </tr>\n",
       "  </tbody>\n",
       "</table>\n",
       "</div>"
      ],
      "text/plain": [
       "      Row_Labels  Count_AnimalName\n",
       "2660     CHARLIE               856\n",
       "3251        COCO               852\n",
       "12368      ROCKY               823"
      ]
     },
     "execution_count": 73,
     "metadata": {},
     "output_type": "execute_result"
    }
   ],
   "source": [
    "df[(df[\"Count_AnimalName\"]<1000)&(df[\"Count_AnimalName\"]>800)]"
   ]
  },
  {
   "cell_type": "code",
   "execution_count": 74,
   "metadata": {},
   "outputs": [
    {
     "data": {
      "text/html": [
       "<div>\n",
       "<style scoped>\n",
       "    .dataframe tbody tr th:only-of-type {\n",
       "        vertical-align: middle;\n",
       "    }\n",
       "\n",
       "    .dataframe tbody tr th {\n",
       "        vertical-align: top;\n",
       "    }\n",
       "\n",
       "    .dataframe thead th {\n",
       "        text-align: right;\n",
       "    }\n",
       "</style>\n",
       "<table border=\"1\" class=\"dataframe\">\n",
       "  <thead>\n",
       "    <tr style=\"text-align: right;\">\n",
       "      <th></th>\n",
       "      <th>e</th>\n",
       "      <th>f</th>\n",
       "      <th>g</th>\n",
       "      <th>h</th>\n",
       "    </tr>\n",
       "  </thead>\n",
       "  <tbody>\n",
       "    <tr>\n",
       "      <th>a</th>\n",
       "      <td>False</td>\n",
       "      <td>False</td>\n",
       "      <td>False</td>\n",
       "      <td>False</td>\n",
       "    </tr>\n",
       "    <tr>\n",
       "      <th>b</th>\n",
       "      <td>False</td>\n",
       "      <td>False</td>\n",
       "      <td>False</td>\n",
       "      <td>False</td>\n",
       "    </tr>\n",
       "    <tr>\n",
       "      <th>c</th>\n",
       "      <td>False</td>\n",
       "      <td>False</td>\n",
       "      <td>False</td>\n",
       "      <td>False</td>\n",
       "    </tr>\n",
       "  </tbody>\n",
       "</table>\n",
       "</div>"
      ],
      "text/plain": [
       "       e      f      g      h\n",
       "a  False  False  False  False\n",
       "b  False  False  False  False\n",
       "c  False  False  False  False"
      ]
     },
     "execution_count": 74,
     "metadata": {},
     "output_type": "execute_result"
    }
   ],
   "source": [
    "pd.isnull(t3)"
   ]
  },
  {
   "cell_type": "code",
   "execution_count": 75,
   "metadata": {},
   "outputs": [
    {
     "name": "stdout",
     "output_type": "stream",
     "text": [
      "    e  f   g   h\n",
      "a NaN  1   2   3\n",
      "b NaN  5   6   7\n",
      "c NaN  9  10  11\n"
     ]
    }
   ],
   "source": [
    "t3['e']=np.nan\n",
    "print(t3)"
   ]
  },
  {
   "cell_type": "code",
   "execution_count": 76,
   "metadata": {},
   "outputs": [
    {
     "data": {
      "text/html": [
       "<div>\n",
       "<style scoped>\n",
       "    .dataframe tbody tr th:only-of-type {\n",
       "        vertical-align: middle;\n",
       "    }\n",
       "\n",
       "    .dataframe tbody tr th {\n",
       "        vertical-align: top;\n",
       "    }\n",
       "\n",
       "    .dataframe thead th {\n",
       "        text-align: right;\n",
       "    }\n",
       "</style>\n",
       "<table border=\"1\" class=\"dataframe\">\n",
       "  <thead>\n",
       "    <tr style=\"text-align: right;\">\n",
       "      <th></th>\n",
       "      <th>e</th>\n",
       "      <th>f</th>\n",
       "      <th>g</th>\n",
       "      <th>h</th>\n",
       "    </tr>\n",
       "  </thead>\n",
       "  <tbody>\n",
       "    <tr>\n",
       "      <th>a</th>\n",
       "      <td>5.0</td>\n",
       "      <td>1</td>\n",
       "      <td>2</td>\n",
       "      <td>3</td>\n",
       "    </tr>\n",
       "    <tr>\n",
       "      <th>b</th>\n",
       "      <td>5.0</td>\n",
       "      <td>5</td>\n",
       "      <td>6</td>\n",
       "      <td>7</td>\n",
       "    </tr>\n",
       "    <tr>\n",
       "      <th>c</th>\n",
       "      <td>5.0</td>\n",
       "      <td>9</td>\n",
       "      <td>10</td>\n",
       "      <td>11</td>\n",
       "    </tr>\n",
       "  </tbody>\n",
       "</table>\n",
       "</div>"
      ],
      "text/plain": [
       "     e  f   g   h\n",
       "a  5.0  1   2   3\n",
       "b  5.0  5   6   7\n",
       "c  5.0  9  10  11"
      ]
     },
     "execution_count": 76,
     "metadata": {},
     "output_type": "execute_result"
    }
   ],
   "source": [
    "t3.fillna(t.median())"
   ]
  },
  {
   "cell_type": "markdown",
   "metadata": {},
   "source": [
    "print(t3)"
   ]
  },
  {
   "cell_type": "code",
   "execution_count": 79,
   "metadata": {},
   "outputs": [
    {
     "name": "stdout",
     "output_type": "stream",
     "text": [
      "nan\n"
     ]
    }
   ],
   "source": [
    "print(t3['e'].mean())"
   ]
  },
  {
   "cell_type": "code",
   "execution_count": null,
   "metadata": {},
   "outputs": [],
   "source": []
  }
 ],
 "metadata": {
  "kernelspec": {
   "display_name": "Python 3",
   "language": "python",
   "name": "python3"
  },
  "language_info": {
   "codemirror_mode": {
    "name": "ipython",
    "version": 3
   },
   "file_extension": ".py",
   "mimetype": "text/x-python",
   "name": "python",
   "nbconvert_exporter": "python",
   "pygments_lexer": "ipython3",
   "version": "3.8.5"
  }
 },
 "nbformat": 4,
 "nbformat_minor": 4
}
