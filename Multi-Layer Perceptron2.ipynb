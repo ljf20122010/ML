{
 "cells": [
  {
   "cell_type": "code",
   "execution_count": 1,
   "metadata": {},
   "outputs": [],
   "source": [
    "import torch\n",
    "from torch import nn\n",
    "from torch.nn import init\n",
    "import numpy as np\n",
    "import sys\n",
    "sys.path.append(\"..\") \n",
    "import d2lzh_pytorch as d2l"
   ]
  },
  {
   "cell_type": "markdown",
   "metadata": {},
   "source": [
    "定义模型"
   ]
  },
  {
   "cell_type": "code",
   "execution_count": 4,
   "metadata": {},
   "outputs": [],
   "source": [
    "num_imputs,num_outputs,num_hiddens=784,10,256\n",
    "\n",
    "net=nn.Sequential(\n",
    "    d2l.FlattenLayer(),\n",
    "    nn.Linear(num_imputs,num_hiddens),\n",
    "    nn.ReLU(),\n",
    "    nn.Linear(num_hiddens,num_outputs),\n",
    "    )\n",
    "for params in net.parameters():\n",
    "    init.normal_(params,mean=0,std=0.01)"
   ]
  },
  {
   "cell_type": "markdown",
   "metadata": {},
   "source": [
    "读取数据并训练模型"
   ]
  },
  {
   "cell_type": "code",
   "execution_count": 7,
   "metadata": {},
   "outputs": [
    {
     "name": "stdout",
     "output_type": "stream",
     "text": [
      "epoch 1, loss 0.0032, train acc 0.697, test acc 0.777\n",
      "epoch 2, loss 0.0019, train acc 0.820, test acc 0.811\n",
      "epoch 3, loss 0.0017, train acc 0.841, test acc 0.769\n",
      "epoch 4, loss 0.0015, train acc 0.854, test acc 0.824\n",
      "epoch 5, loss 0.0015, train acc 0.862, test acc 0.850\n"
     ]
    }
   ],
   "source": [
    "batch_size=256\n",
    "train_iter,test_iter=d2l.load_data_fashion_mnist(batch_size)\n",
    "loss=torch.nn.CrossEntropyLoss()\n",
    "\n",
    "optimizer=torch.optim.SGD(net.parameters(),lr=0.5)\n",
    "\n",
    "num_epochs=5\n",
    "d2l.train_ch3(net,train_iter,test_iter,loss,num_epochs,batch_size,None,None,optimizer)\n"
   ]
  },
  {
   "cell_type": "code",
   "execution_count": null,
   "metadata": {},
   "outputs": [],
   "source": []
  }
 ],
 "metadata": {
  "kernelspec": {
   "display_name": "Python 3",
   "language": "python",
   "name": "python3"
  },
  "language_info": {
   "codemirror_mode": {
    "name": "ipython",
    "version": 3
   },
   "file_extension": ".py",
   "mimetype": "text/x-python",
   "name": "python",
   "nbconvert_exporter": "python",
   "pygments_lexer": "ipython3",
   "version": "3.8.5"
  }
 },
 "nbformat": 4,
 "nbformat_minor": 4
}
