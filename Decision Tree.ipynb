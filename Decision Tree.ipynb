{
 "cells": [
  {
   "cell_type": "code",
   "execution_count": 1,
   "metadata": {},
   "outputs": [],
   "source": [
    "from sklearn.datasets import load_iris, fetch_20newsgroups, load_boston\n",
    "from sklearn.model_selection import train_test_split, GridSearchCV\n",
    "from sklearn.neighbors import KNeighborsClassifier\n",
    "from sklearn.preprocessing import StandardScaler\n",
    "from sklearn.feature_extraction.text import TfidfVectorizer\n",
    "from sklearn.naive_bayes import MultinomialNB\n",
    "from sklearn.metrics import classification_report\n",
    "from sklearn.feature_extraction import DictVectorizer\n",
    "from sklearn.tree import DecisionTreeClassifier, export_graphviz\n",
    "from sklearn.ensemble import RandomForestClassifier\n",
    "import pandas as pd"
   ]
  },
  {
   "cell_type": "code",
   "execution_count": 3,
   "metadata": {},
   "outputs": [],
   "source": [
    "def decision():\n",
    "    \"\"\"\n",
    "    决策树对泰坦尼克号进行预测生死\n",
    "    :return: None\n",
    "    \"\"\"\n",
    "    # 获取数据\n",
    "    titan = pd.read_csv(\"http://biostat.mc.vanderbilt.edu/wiki/pub/Main/DataSets/titanic.txt\")\n",
    "\n",
    "    # 处理数据，找出特征值和目标值\n",
    "    x = titan[['pclass', 'age', 'sex']]\n",
    "\n",
    "    y = titan['survived']\n",
    "\n",
    "    print(x)\n",
    "    # 缺失值处理\n",
    "    x['age'].fillna(x['age'].mean(), inplace=True)\n",
    "\n",
    "    # 分割数据集到训练集合测试集\n",
    "    x_train, x_test, y_train, y_test = train_test_split(x, y, test_size=0.25)\n",
    "\n",
    "    # 进行处理（特征工程）特征-》类别-》one_hot编码\n",
    "    dict = DictVectorizer(sparse=False)\n",
    "\n",
    "    x_train = dict.fit_transform(x_train.to_dict(orient=\"records\"))\n",
    "\n",
    "    print(dict.get_feature_names())\n",
    "\n",
    "    x_test = dict.transform(x_test.to_dict(orient=\"records\"))\n",
    "\n",
    "    # print(x_train)\n",
    "    # 用决策树进行预测\n",
    "    # dec = DecisionTreeClassifier()\n",
    "    #\n",
    "    # dec.fit(x_train, y_train)\n",
    "    #\n",
    "    # # 预测准确率\n",
    "    # print(\"预测的准确率：\", dec.score(x_test, y_test))\n",
    "    #\n",
    "    # # 导出决策树的结构\n",
    "    # export_graphviz(dec, out_file=\"./tree.dot\", feature_names=['年龄', 'pclass=1st', 'pclass=2nd', 'pclass=3rd', '女性', '男性'])\n",
    "\n",
    "    # 随机森林进行预测 （超参数调优）\n",
    "    rf = RandomForestClassifier()\n",
    "\n",
    "    param = {\"n_estimators\": [120, 200, 300, 500, 800, 1200], \"max_depth\": [5, 8, 15, 25, 30]}\n",
    "\n",
    "    # 网格搜索与交叉验证\n",
    "    gc = GridSearchCV(rf, param_grid=param, cv=2)\n",
    "\n",
    "    gc.fit(x_train, y_train)\n",
    "\n",
    "    print(\"准确率：\", gc.score(x_test, y_test))\n",
    "\n",
    "    print(\"查看选择的参数模型：\", gc.best_params_)\n",
    "\n",
    "    return None\n"
   ]
  },
  {
   "cell_type": "code",
   "execution_count": 4,
   "metadata": {},
   "outputs": [
    {
     "name": "stdout",
     "output_type": "stream",
     "text": [
      "     pclass      age     sex\n",
      "0       1st  29.0000  female\n",
      "1       1st   2.0000  female\n",
      "2       1st  30.0000    male\n",
      "3       1st  25.0000  female\n",
      "4       1st   0.9167    male\n",
      "...     ...      ...     ...\n",
      "1308    3rd      NaN    male\n",
      "1309    3rd      NaN    male\n",
      "1310    3rd      NaN    male\n",
      "1311    3rd      NaN  female\n",
      "1312    3rd      NaN    male\n",
      "\n",
      "[1313 rows x 3 columns]\n",
      "['age', 'pclass=1st', 'pclass=2nd', 'pclass=3rd', 'sex=female', 'sex=male']\n"
     ]
    },
    {
     "name": "stderr",
     "output_type": "stream",
     "text": [
      "D:\\study\\anaconda\\envs\\Test\\lib\\site-packages\\pandas\\core\\series.py:4517: SettingWithCopyWarning: \n",
      "A value is trying to be set on a copy of a slice from a DataFrame\n",
      "\n",
      "See the caveats in the documentation: https://pandas.pydata.org/pandas-docs/stable/user_guide/indexing.html#returning-a-view-versus-a-copy\n",
      "  return super().fillna(\n"
     ]
    },
    {
     "name": "stdout",
     "output_type": "stream",
     "text": [
      "准确率： 0.8449848024316109\n",
      "查看选择的参数模型： {'max_depth': 5, 'n_estimators': 1200}\n"
     ]
    }
   ],
   "source": [
    "if __name__ == \"__main__\":\n",
    "    decision()\n"
   ]
  },
  {
   "cell_type": "code",
   "execution_count": null,
   "metadata": {},
   "outputs": [],
   "source": []
  }
 ],
 "metadata": {
  "kernelspec": {
   "display_name": "Python 3",
   "language": "python",
   "name": "python3"
  },
  "language_info": {
   "codemirror_mode": {
    "name": "ipython",
    "version": 3
   },
   "file_extension": ".py",
   "mimetype": "text/x-python",
   "name": "python",
   "nbconvert_exporter": "python",
   "pygments_lexer": "ipython3",
   "version": "3.8.5"
  }
 },
 "nbformat": 4,
 "nbformat_minor": 4
}
